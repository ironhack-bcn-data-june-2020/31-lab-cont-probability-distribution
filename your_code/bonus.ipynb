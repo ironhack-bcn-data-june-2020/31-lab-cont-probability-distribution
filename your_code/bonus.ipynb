{
 "cells": [
  {
   "cell_type": "markdown",
   "metadata": {},
   "source": [
    "# Before your start:\n",
    "- Read the README.md file\n",
    "- Comment as much as you can and use the resources (README.md file)\n",
    "- Happy learning!"
   ]
  },
  {
   "cell_type": "code",
   "execution_count": 1,
   "metadata": {
    "ExecuteTime": {
     "end_time": "2019-08-05T07:06:49.475565Z",
     "start_time": "2019-08-05T07:06:48.569463Z"
    }
   },
   "outputs": [],
   "source": [
    "#Importing libraries\n",
    "from scipy import stats;\n",
    "import pandas as pd;\n",
    "import numpy as np;\n",
    "import matplotlib.pyplot as plt\n",
    "import math"
   ]
  },
  {
   "cell_type": "markdown",
   "metadata": {},
   "source": [
    "# Challenge 1 - Generate and Plot Normal Distributions"
   ]
  },
  {
   "cell_type": "markdown",
   "metadata": {},
   "source": [
    "#### Step 1: Generate samples and test normal distribution\n",
    "\n",
    "Use mean = 50, standard_deviation = 5 and sample_size=[10, 50, 500, 5000] to generate 4 random samples that are normally distributed. Test your normal distributions with [`scipy.stats.normaltest`](https://docs.scipy.org/doc/scipy/reference/generated/scipy.stats.normaltest.html).\n",
    "\n",
    "\n",
    "*Hint: Read the documentation for `scipy.stats.normaltest`. The function does not simply return Yes or No for whether your data is normal distribution. It returns the likelihood.*"
   ]
  },
  {
   "cell_type": "code",
   "execution_count": 3,
   "metadata": {
    "ExecuteTime": {
     "end_time": "2019-08-05T07:06:49.493337Z",
     "start_time": "2019-08-05T07:06:49.477983Z"
    }
   },
   "outputs": [
    {
     "data": {
      "text/plain": [
       "[NormaltestResult(statistic=1.8277182757193384, pvalue=0.4009738210947452),\n",
       " NormaltestResult(statistic=0.02584222544363392, pvalue=0.98716200647253),\n",
       " NormaltestResult(statistic=1.933556331147516, pvalue=0.38030635048274664),\n",
       " NormaltestResult(statistic=1.7641679717903902, pvalue=0.4139194100192267)]"
      ]
     },
     "execution_count": 3,
     "metadata": {},
     "output_type": "execute_result"
    }
   ],
   "source": [
    "# Variables\n",
    "m = 50;\n",
    "s = 5;\n",
    "sample = [10, 50, 500, 5000]\n",
    "\n",
    "\n",
    "normal_dist = [np.random.normal(m, s, size) for size in sample]\n",
    "test_normal_dist = [stats.normaltest(dist) for dist in normal_dist]\n",
    "\n",
    "test_normal_dist"
   ]
  },
  {
   "cell_type": "markdown",
   "metadata": {},
   "source": [
    "#### Interpret the normaltest results and make your observations."
   ]
  },
  {
   "cell_type": "markdown",
   "metadata": {},
   "source": [
    "`Comments:`\n",
    "As pvalue in each case is higher than 0.05, we can't reject the hipotesis, so distribution is normal."
   ]
  },
  {
   "cell_type": "markdown",
   "metadata": {},
   "source": [
    "#### Step 2: Plot normal distributions\n",
    "\n",
    "Use matplotlib subplots to plot a histogram of each sample. \n",
    "\n",
    "*Hints:*\n",
    "- Use subplots to compare your figures side by side.\n",
    "\n",
    "- Your output should look like below:\n",
    "\n",
    "![normal distributions with different sample sizes](images/ch-1.png)"
   ]
  },
  {
   "cell_type": "code",
   "execution_count": 12,
   "metadata": {
    "ExecuteTime": {
     "end_time": "2019-08-05T07:06:49.497805Z",
     "start_time": "2019-08-05T07:06:49.495453Z"
    }
   },
   "outputs": [
    {
     "data": {
      "image/png": "[encoded data removed]",
      "text/plain": [
       "<Figure size 1440x360 with 4 Axes>"
      ]
     },
     "metadata": {
      "needs_background": "light"
     },
     "output_type": "display_data"
    }
   ],
   "source": [
    "# Create figure and axes\n",
    "fig, ax = plt.subplots(1, 4,figsize=(20,5))\n",
    "\n",
    "# Variables\n",
    "bins=10\n",
    "\n",
    "# Plot each histogram\n",
    "for i in range(len(normal_dist)):\n",
    "    ax[i].hist(normal_dist[i], bins=bins)  \n",
    "    ax[i].set_title(f\"n = {sample[i]}\")\n",
    "\n",
    "plt.show()"
   ]
  },
  {
   "cell_type": "markdown",
   "metadata": {},
   "source": [
    "#### Compare the distributions above. What do you observe? Explain with the Central Limit Theorem."
   ]
  },
  {
   "cell_type": "markdown",
   "metadata": {},
   "source": [
    "`Comments:`\n",
    "The bigger is the sample, the distribution is each time more normal. The mean of the samples will follow a normal distribution."
   ]
  },
  {
   "cell_type": "markdown",
   "metadata": {},
   "source": [
    "# Challenge 2 - Plot Probability Mass Function (PMF)"
   ]
  },
  {
   "cell_type": "markdown",
   "metadata": {},
   "source": [
    "#### Background knowledge\n",
    "\n",
    "[PMF](https://en.wikipedia.org/wiki/Probability_mass_function) shows the probability distribution of a **discrete random variable**. A [discrete random variable](https://en.wikipedia.org/wiki/Random_variable#Discrete_random_variable) has random numeric values that are not continuous. For example, the number of people in a household can only be integers but not floats. Therefore the number of people in a household is a discrete variable.\n",
    "\n",
    "#### Question: We assume that the probability of clicking an Ad in a Youtube video is 0.15. We have a sample of 5 people who watched the video and we want to plot the PMF for a binomial distribution.\n",
    "\n",
    "*Hint: use binom from `scipy.stats.binom`. Your output should look like below:*\n",
    "\n",
    "![binom 10](images/ch-2.png)"
   ]
  },
  {
   "cell_type": "code",
   "execution_count": 24,
   "metadata": {
    "ExecuteTime": {
     "end_time": "2019-08-05T07:06:49.502188Z",
     "start_time": "2019-08-05T07:06:49.500078Z"
    }
   },
   "outputs": [
    {
     "data": {
      "image/png": "[encoded data removed]",
      "text/plain": [
       "<Figure size 432x288 with 1 Axes>"
      ]
     },
     "metadata": {
      "needs_background": "light"
     },
     "output_type": "display_data"
    }
   ],
   "source": [
    "# Variables \n",
    "p = 0.15\n",
    "n = 5\n",
    "\n",
    "# Binomial distribution\n",
    "# Plot line + bullet point -> Discrete Distribution Representation\n",
    "\n",
    "binomial = stats.binom(n, p)\n",
    "x = np.arange(stats.binom.ppf(0.01, n, p),stats.binom.ppf(0.99, n, p))\n",
    "fmp = binomial.pmf(x)\n",
    "plt.plot(x, fmp, 'bo')\n",
    "plt.vlines(x, 0, fmp, colors='b')\n",
    "plt.title('Binomial Distribution - PMF')\n",
    "plt.xlabel('Values')\n",
    "plt.ylabel('Probability')\n",
    "plt.show();"
   ]
  },
  {
   "cell_type": "markdown",
   "metadata": {},
   "source": [
    "#### Explain what you observe from the plot above."
   ]
  },
  {
   "cell_type": "markdown",
   "metadata": {},
   "source": [
    "`Comments:`\n",
    "With more people watching videos, the probability of seeing an Ad is each time lower\n"
   ]
  },
  {
   "cell_type": "markdown",
   "metadata": {},
   "source": [
    "#### Now plot PMP with 50, 500, and 5000 visitors."
   ]
  },
  {
   "cell_type": "code",
   "execution_count": 28,
   "metadata": {
    "ExecuteTime": {
     "end_time": "2019-08-05T07:06:49.648115Z",
     "start_time": "2019-08-05T07:06:49.645556Z"
    }
   },
   "outputs": [
    {
     "data": {
      "image/png": "[encoded data removed]",
      "text/plain": [
       "<Figure size 1440x360 with 3 Axes>"
      ]
     },
     "metadata": {
      "needs_background": "light"
     },
     "output_type": "display_data"
    }
   ],
   "source": [
    "# Create figure and axes\n",
    "fig, ax = plt.subplots(1, 3,figsize=(20,5))\n",
    "\n",
    "# Variables\n",
    "visitors = [50, 500, 5000]\n",
    "x = [np.arange(stats.binom.ppf(0.01, n, p),stats.binom.ppf(0.99, n, p)) for n in visitors]\n",
    "\n",
    "# Plot each PMF\n",
    "# For visualization reasons, the next discrete distributions are represented using continuous lines\n",
    "\n",
    "for i in range(len(x)):\n",
    "    ax[i].plot(x[i], stats.binom.pmf(x[i], visitors[i], p))\n",
    "    ax[i].set_title(f\"n = {visitors[i]}\")\n",
    "\n",
    "plt.show()"
   ]
  },
  {
   "cell_type": "markdown",
   "metadata": {},
   "source": [
    "#### What did you notice from the distribution plots? Comment your findings."
   ]
  },
  {
   "cell_type": "markdown",
   "metadata": {},
   "source": [
    "`Comments:`\n",
    "The bigger is the sample, the distribution is each time more normal."
   ]
  },
  {
   "cell_type": "markdown",
   "metadata": {},
   "source": [
    "# Challenge 3"
   ]
  },
  {
   "cell_type": "markdown",
   "metadata": {},
   "source": [
    "#### Reaserch the Poisson distribution. Write about your own understanding of the Poisson distribution."
   ]
  },
  {
   "cell_type": "markdown",
   "metadata": {},
   "source": [
    "`Comments:`<br/>\n",
    "It estimates how many times an event can happen in a specified time. For calculting that, Poisson uses the average number of times it has happened."
   ]
  },
  {
   "cell_type": "markdown",
   "metadata": {},
   "source": [
    "#### A website has an average of 300 visits per day. What is the probability of getting 320 visitors in a day?\n",
    "\n",
    "*Hint: use `scipy.stats.poisson`*"
   ]
  },
  {
   "cell_type": "code",
   "execution_count": 61,
   "metadata": {
    "ExecuteTime": {
     "end_time": "2019-08-05T07:06:50.158426Z",
     "start_time": "2019-08-05T07:06:50.155903Z"
    }
   },
   "outputs": [
    {
     "name": "stdout",
     "output_type": "stream",
     "text": [
      "The probability of getting 320 visitors in a day? is: 0.012\n"
     ]
    }
   ],
   "source": [
    "# Variables\n",
    "mu = 300\n",
    "visits = 320\n",
    "\n",
    "# Probability\n",
    "poisson_probability = stats.poisson.pmf(visits,mu)\n",
    "print('The probability of getting 320 visitors in a day? is:', round(poisson_probability,3))"
   ]
  },
  {
   "cell_type": "markdown",
   "metadata": {},
   "source": [
    "#### What is the probability of getting 60 visits?"
   ]
  },
  {
   "cell_type": "code",
   "execution_count": 62,
   "metadata": {
    "ExecuteTime": {
     "end_time": "2019-08-05T07:06:50.245763Z",
     "start_time": "2019-08-05T07:06:50.242293Z"
    }
   },
   "outputs": [
    {
     "name": "stdout",
     "output_type": "stream",
     "text": [
      "The probability of getting 60 visitors in a day? is: 0.0\n"
     ]
    }
   ],
   "source": [
    "# Variables\n",
    "visits = 60\n",
    "\n",
    "# Probability\n",
    "poisson_probability = stats.poisson.pmf(visits,mu)\n",
    "print('The probability of getting 60 visitors in a day? is:', round(poisson_probability,3))"
   ]
  },
  {
   "cell_type": "markdown",
   "metadata": {},
   "source": [
    "#### Plot the distribution of the probability for getting 0-1000 visits.\n",
    "\n",
    "*Hints:* \n",
    "\n",
    "- Create a list to store the Poisson distribution probabilities for n=0 to 1000. Then plot the probabilities.\n",
    "\n",
    "- Your plot should look like below:\n",
    "\n",
    "![poisson distribution](images/ch-3.png)"
   ]
  },
  {
   "cell_type": "code",
   "execution_count": 65,
   "metadata": {
    "ExecuteTime": {
     "end_time": "2019-08-05T07:06:50.331011Z",
     "start_time": "2019-08-05T07:06:50.328383Z"
    }
   },
   "outputs": [
    {
     "data": {
      "image/png": "[encoded data removed]",
      "text/plain": [
       "<Figure size 432x288 with 1 Axes>"
      ]
     },
     "metadata": {
      "needs_background": "light"
     },
     "output_type": "display_data"
    }
   ],
   "source": [
    "# Variables\n",
    "visits = range(1000)\n",
    "\n",
    "# Plot of the distribution\n",
    "x = []\n",
    "y= []\n",
    "\n",
    "for i in range(1000):\n",
    "    x.append(i)\n",
    "    y.append(stats.distributions.poisson.pmf(i, mu))\n",
    "\n",
    "plt.plot(x, y)\n",
    "plt.show()"
   ]
  },
  {
   "cell_type": "markdown",
   "metadata": {},
   "source": [
    "# Challenge 4 - Central Limit Theorem\n",
    "#### Example of application\n",
    "\n",
    "A delivery company needs 35 minutes to deliver a package, with a standard deviation of 8 minutes. Suppose that in one day, they deliver 200 packages.\n",
    "\n",
    "#### a. What is the probability that the mean delivery time today is between 30 and 35 minutes?"
   ]
  },
  {
   "cell_type": "code",
   "execution_count": 38,
   "metadata": {
    "ExecuteTime": {
     "end_time": "2019-08-05T07:06:50.418811Z",
     "start_time": "2019-08-05T07:06:50.416549Z"
    }
   },
   "outputs": [
    {
     "name": "stdout",
     "output_type": "stream",
     "text": [
      "The probability that the mean delivery time today is between 30 and 35 minutes is: 0.234\n"
     ]
    }
   ],
   "source": [
    "# Variables\n",
    "m = 35\n",
    "s = 8\n",
    "\n",
    "# Probability\n",
    "in_30 = stats.norm.cdf(30, m, s)\n",
    "in_35 = stats.norm.cdf(35, m, s)\n",
    "in_30_35 = in_35 - in_30\n",
    "print('The probability that the mean delivery time today is between 30 and 35 minutes is:', round(in_30_35,3))"
   ]
  },
  {
   "cell_type": "markdown",
   "metadata": {},
   "source": [
    "#### b. What is the probability that in total, it takes more than 115 hours to deliver all 200 packages?"
   ]
  },
  {
   "cell_type": "code",
   "execution_count": 43,
   "metadata": {
    "ExecuteTime": {
     "end_time": "2019-08-05T07:06:50.517605Z",
     "start_time": "2019-08-05T07:06:50.515513Z"
    }
   },
   "outputs": [
    {
     "name": "stdout",
     "output_type": "stream",
     "text": [
      "The probability that in total, it takes more than 115 hours to deliver all 200 packages is: 0.812\n"
     ]
    }
   ],
   "source": [
    "# Variables\n",
    "n=200\n",
    "#transforming hours into minutes\n",
    "total = 115*60\n",
    "\n",
    "# Probability\n",
    "in_total = stats.norm.cdf(total, m * n , s*(n**0.5))\n",
    "print('The probability that in total, it takes more than 115 hours to deliver all 200 packages is:', round(1-in_total,3))\n",
    "#we substract 1, otherwise it would be the probability to take less than 115 hours to deliver all 200 packages"
   ]
  },
  {
   "cell_type": "markdown",
   "metadata": {},
   "source": [
    "# Challenge 5 - Normal Variables \n",
    "\n",
    "The value (in thousands) of the monthly sales of a publishing company follows a normal distribution with a mean equal to 200 and a standard deviation equal to 40. \n",
    "\n",
    "<div align=\"center\">$X → N(200,40)$</div>\n",
    "\n",
    "#### 1. Find the probability that the monthly sales are more than 300. "
   ]
  },
  {
   "cell_type": "code",
   "execution_count": 46,
   "metadata": {
    "ExecuteTime": {
     "end_time": "2019-08-05T07:06:50.609172Z",
     "start_time": "2019-08-05T07:06:50.606690Z"
    }
   },
   "outputs": [
    {
     "name": "stdout",
     "output_type": "stream",
     "text": [
      "The probability that the monthly sales are more than 300 is: 0.006\n"
     ]
    }
   ],
   "source": [
    "# Variables\n",
    "mu = 200\n",
    "sigma = 40\n",
    "monthly_sales = 300\n",
    "\n",
    "# Probability\n",
    "monthly_sales_300 = stats.norm.cdf(monthly_sales, mu, sigma)\n",
    "print('The probability that the monthly sales are more than 300 is:', round(1-monthly_sales_300,3))"
   ]
  },
  {
   "cell_type": "markdown",
   "metadata": {},
   "source": [
    "#### 2. Find the probability that the monthly sales fall between 160 and 240."
   ]
  },
  {
   "cell_type": "code",
   "execution_count": 49,
   "metadata": {
    "ExecuteTime": {
     "end_time": "2019-08-05T07:06:50.699269Z",
     "start_time": "2019-08-05T07:06:50.696850Z"
    }
   },
   "outputs": [
    {
     "name": "stdout",
     "output_type": "stream",
     "text": [
      "The probability that the monthly sales fall between 160 and 240 is: 0.683\n"
     ]
    }
   ],
   "source": [
    "# Probability\n",
    "monthly_sales_160 = stats.norm.cdf(160, mu, sigma)\n",
    "monthly_sales_240 = stats.norm.cdf(240, mu, sigma)\n",
    "between_160_240 = monthly_sales_240 - monthly_sales_160\n",
    "print('The probability that the monthly sales fall between 160 and 240 is:', round(between_160_240,3))"
   ]
  },
  {
   "cell_type": "markdown",
   "metadata": {},
   "source": [
    "#### 3. Find the probability that the monthly sales do not exceed 150."
   ]
  },
  {
   "cell_type": "code",
   "execution_count": 50,
   "metadata": {
    "ExecuteTime": {
     "end_time": "2019-08-05T07:06:50.790830Z",
     "start_time": "2019-08-05T07:06:50.788448Z"
    }
   },
   "outputs": [
    {
     "name": "stdout",
     "output_type": "stream",
     "text": [
      "The probability that the monthly sales do not exceed 150 is: 0.106\n"
     ]
    }
   ],
   "source": [
    "# Probability\n",
    "monthly_sales_150 = stats.norm.cdf(150, mu, sigma)\n",
    "print('The probability that the monthly sales do not exceed 150 is:', round(monthly_sales_150,3))"
   ]
  },
  {
   "cell_type": "markdown",
   "metadata": {},
   "source": [
    "#### 4. Find the probability that the monthly sales exceed 3000. "
   ]
  },
  {
   "cell_type": "code",
   "execution_count": 51,
   "metadata": {
    "ExecuteTime": {
     "end_time": "2019-08-05T07:06:50.888712Z",
     "start_time": "2019-08-05T07:06:50.886459Z"
    }
   },
   "outputs": [
    {
     "name": "stdout",
     "output_type": "stream",
     "text": [
      "The probability that the monthly sales exceed 3000 is: 0.0\n"
     ]
    }
   ],
   "source": [
    "# Probability\n",
    "monthly_sales_3000 = stats.norm.cdf(3000, mu, sigma)\n",
    "print('The probability that the monthly sales exceed 3000 is:', round(1-monthly_sales_3000,3))"
   ]
  },
  {
   "cell_type": "markdown",
   "metadata": {},
   "source": [
    "# Challenge 6 - Poisson distribution\n",
    "The mean number of violent robberies per month that are registered in a particular barrio is 4. Find the following probabilities.\n",
    "#### 1.The probability that in a particular month there is no violent robbery."
   ]
  },
  {
   "cell_type": "code",
   "execution_count": 52,
   "metadata": {
    "ExecuteTime": {
     "end_time": "2019-08-05T07:06:50.988581Z",
     "start_time": "2019-08-05T07:06:50.985153Z"
    }
   },
   "outputs": [
    {
     "name": "stdout",
     "output_type": "stream",
     "text": [
      "The probability that in a particular month there is no violent robbery is: 0.018\n"
     ]
    }
   ],
   "source": [
    "# Variables\n",
    "mu = 4\n",
    "\n",
    "# Probability\n",
    "no_violent_robbery = stats.poisson.cdf(0, mu)\n",
    "print('The probability that in a particular month there is no violent robbery is:', round(no_violent_robbery,3))"
   ]
  },
  {
   "cell_type": "markdown",
   "metadata": {},
   "source": [
    "#### 2. The probability that there are at least 1 in a given month. "
   ]
  },
  {
   "cell_type": "code",
   "execution_count": 54,
   "metadata": {
    "ExecuteTime": {
     "end_time": "2019-08-05T07:06:51.082118Z",
     "start_time": "2019-08-05T07:06:51.079802Z"
    }
   },
   "outputs": [
    {
     "name": "stdout",
     "output_type": "stream",
     "text": [
      "The probability that there are at least 1 in a given month is: 0.092\n"
     ]
    }
   ],
   "source": [
    "# Probability\n",
    "violent_robbery = stats.poisson.cdf(1, mu)\n",
    "print('The probability that there are at least 1 in a given month is:', round(violent_robbery,3))"
   ]
  },
  {
   "cell_type": "markdown",
   "metadata": {},
   "source": [
    "#### 3. The probability that there are between 2 and 6 (inclusive) in a given month."
   ]
  },
  {
   "cell_type": "code",
   "execution_count": 55,
   "metadata": {
    "ExecuteTime": {
     "end_time": "2019-08-05T07:06:51.173350Z",
     "start_time": "2019-08-05T07:06:51.170809Z"
    }
   },
   "outputs": [
    {
     "name": "stdout",
     "output_type": "stream",
     "text": [
      "The probability that there are between 2 and 6 is: 0.651\n"
     ]
    }
   ],
   "source": [
    "# Probability\n",
    "violent_2 = stats.poisson.cdf(2, mu)\n",
    "violent_6 = stats.poisson.cdf(6, mu)\n",
    "between_2_6 = violent_6 - violent_2 \n",
    "print('The probability that there are between 2 and 6 is:', round(between_2_6,3))"
   ]
  },
  {
   "cell_type": "markdown",
   "metadata": {},
   "source": [
    "#### 4. The probability that there more than two in 15 days.  "
   ]
  },
  {
   "cell_type": "code",
   "execution_count": 58,
   "metadata": {
    "ExecuteTime": {
     "end_time": "2019-08-05T07:06:51.266542Z",
     "start_time": "2019-08-05T07:06:51.264134Z"
    }
   },
   "outputs": [
    {
     "name": "stdout",
     "output_type": "stream",
     "text": [
      "The probability that there more than two in 15 days is 0.323\n"
     ]
    }
   ],
   "source": [
    "# Probability\n",
    "#First we need to calculate the mean divided into 2, as the inticial mean is per month\n",
    "mu2 = mu/2\n",
    "\n",
    "robberies_2in15days= stats.poisson.cdf(2, mu2)\n",
    "print('The probability that there more than two in 15 days is', round(1-robberies_2in15days,3))"
   ]
  }
 ],
 "metadata": {
  "anaconda-cloud": {},
  "kernelspec": {
   "display_name": "Python 3",
   "language": "python",
   "name": "python3"
  },
  "language_info": {
   "codemirror_mode": {
    "name": "ipython",
    "version": 3
   },
   "file_extension": ".py",
   "mimetype": "text/x-python",
   "name": "python",
   "nbconvert_exporter": "python",
   "pygments_lexer": "ipython3",
   "version": "3.7.6"
  },
  "toc": {
   "base_numbering": 1,
   "nav_menu": {},
   "number_sections": true,
   "sideBar": true,
   "skip_h1_title": false,
   "title_cell": "Table of Contents",
   "title_sidebar": "Contents",
   "toc_cell": false,
   "toc_position": {},
   "toc_section_display": true,
   "toc_window_display": false
  },
  "varInspector": {
   "cols": {
    "lenName": 16,
    "lenType": 16,
    "lenVar": 40
   },
   "kernels_config": {
    "python": {
     "delete_cmd_postfix": "",
     "delete_cmd_prefix": "del ",
     "library": "var_list.py",
     "varRefreshCmd": "print(var_dic_list())"
    },
    "r": {
     "delete_cmd_postfix": ") ",
     "delete_cmd_prefix": "rm(",
     "library": "var_list.r",
     "varRefreshCmd": "cat(var_dic_list()) "
    }
   },
   "types_to_exclude": [
    "module",
    "function",
    "builtin_function_or_method",
    "instance",
    "_Feature"
   ],
   "window_display": false
  }
 },
 "nbformat": 4,
 "nbformat_minor": 1
}
