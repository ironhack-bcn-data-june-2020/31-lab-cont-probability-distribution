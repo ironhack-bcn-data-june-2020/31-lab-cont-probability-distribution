{
 "cells": [
  {
   "cell_type": "markdown",
   "metadata": {},
   "source": [
    "# Before your start:\n",
    "\n",
    "    Read the README.md file\n",
    "    Comment as much as you can and use the resources (README.md file)\n",
    "    Happy learning!"
   ]
  },
  {
   "cell_type": "markdown",
   "metadata": {},
   "source": [
    "In this exercise, we  will generate random numbers from the continuous disributions we learned in the lesson. There are two ways to generate random numbers:\n",
    "\n",
    "1. Using the numpy library \n",
    "1. using the Scipy library \n",
    "\n",
    "Use either or both of the lbraries in this exercise."
   ]
  },
  {
   "cell_type": "markdown",
   "metadata": {},
   "source": [
    "## Uniform Distribution\n",
    "\n",
    "To generate uniform random numbers between any two given values using scipy, we can either use the following code or the code that we have\n",
    "discussed in class:"
   ]
  },
  {
   "cell_type": "code",
   "execution_count": 19,
   "metadata": {},
   "outputs": [],
   "source": [
    "#imports\n",
    "import numpy as np\n",
    "import pandas as pd\n",
    "from scipy.stats import uniform\n",
    "import matplotlib.pyplot as plt\n",
    "import seaborn as sns\n",
    "import scipy.stats as stats"
   ]
  },
  {
   "cell_type": "code",
   "execution_count": 6,
   "metadata": {
    "ExecuteTime": {
     "end_time": "2019-08-02T06:07:54.802557Z",
     "start_time": "2019-08-02T06:07:54.330877Z"
    }
   },
   "outputs": [
    {
     "name": "stdout",
     "output_type": "stream",
     "text": [
      "[2.38929428 2.06865301 2.82792292 2.47769984 2.43062219 2.37578051\n",
      " 2.19960838 2.61206584 2.86374223 2.98655955]\n"
     ]
    }
   ],
   "source": [
    "x = uniform.rvs(size=10)\n",
    "a = 2\n",
    "b = 3\n",
    "randoms  = a + (b-a)*x\n",
    "print(randoms)"
   ]
  },
  {
   "cell_type": "markdown",
   "metadata": {},
   "source": [
    "**Your task:**\n",
    "\n",
    "1. Based on the code above, write a function that generates uniformly distributed random numbers. There are several requirements for your function:\n",
    "    * It should accept 3 parameters: \n",
    "        * `bottom` - the lower boundary of the generated numbers\n",
    "        * `ceiling` - the upper boundary of the generated numbers\n",
    "        * `count` - how many numbers to generate\n",
    "    * It should return an array of uniformly distributed random numbers\n",
    "\n",
    "1. Call your function with 2 sets of params below:\n",
    "    * bottom=10, ceiling=15, count=100\n",
    "    * bottom=10, ceiling=60, count=1,000\n",
    "\n",
    "1. Plot the uniform distributions generated above using histograms, where x axis is the value and y axis is the count. Let the histogram's number of bins be 10."
   ]
  },
  {
   "cell_type": "code",
   "execution_count": 12,
   "metadata": {
    "ExecuteTime": {
     "end_time": "2019-08-02T06:07:54.808337Z",
     "start_time": "2019-08-02T06:07:54.805916Z"
    }
   },
   "outputs": [],
   "source": [
    "# your code here\n",
    "\n",
    "# 1- function that generates normal distributed random numbers\n",
    "def random(bottom,ceiling,count):\n",
    "    x = uniform.rvs(size=count)\n",
    "    randoms  = a + (b-a)*x\n",
    "    return randoms"
   ]
  },
  {
   "cell_type": "code",
   "execution_count": 13,
   "metadata": {},
   "outputs": [],
   "source": [
    "# 2- Call your function1\n",
    "random1= random(10,15,100)"
   ]
  },
  {
   "cell_type": "code",
   "execution_count": 14,
   "metadata": {},
   "outputs": [],
   "source": [
    "# 3- Call your function2\n",
    "random2= random(10,60,1000)"
   ]
  },
  {
   "cell_type": "code",
   "execution_count": 15,
   "metadata": {},
   "outputs": [
    {
     "data": {
      "image/png": "[encoded data removed]",
      "text/plain": [
       "<Figure size 432x288 with 1 Axes>"
      ]
     },
     "metadata": {
      "needs_background": "light"
     },
     "output_type": "display_data"
    }
   ],
   "source": [
    "# 4- Plot the uniform distributions generated above \n",
    "sns.distplot(random1, bins=10)\n",
    "sns.distplot(random2, bins=10)\n",
    "plt.legend(['random1', 'random2']);"
   ]
  },
  {
   "cell_type": "markdown",
   "metadata": {},
   "source": [
    "How are the two distributions different?"
   ]
  },
  {
   "cell_type": "code",
   "execution_count": 3,
   "metadata": {
    "ExecuteTime": {
     "end_time": "2019-08-02T06:07:54.812745Z",
     "start_time": "2019-08-02T06:07:54.810660Z"
    }
   },
   "outputs": [],
   "source": [
    "# X-axis depending on ceiling, number of obs in each bin depending on n\n",
    "#the more observation we use, the more normalize distribution we get."
   ]
  },
  {
   "cell_type": "markdown",
   "metadata": {},
   "source": [
    "## Normal Distribution\n",
    "\n",
    "1. In the same way in the Uniform Distribution challenge, write a function that generates normally distributed random numbers.\n",
    "1. Generate 1,000 normally distributed numbers with the average of 10 and standard deviation of 1\n",
    "1. Generate 1,000 normally distributed numbers with the average of 10 and standard deviation of 50\n",
    "2. Plot the distributions of the data generated."
   ]
  },
  {
   "cell_type": "code",
   "execution_count": 25,
   "metadata": {},
   "outputs": [],
   "source": [
    "#1-function that generates normal distributed random numbers\n",
    "def normal_function(mean,standard_deviation,count):\n",
    "    return stats.norm(mean, standard_deviation).rvs(size = count)"
   ]
  },
  {
   "cell_type": "code",
   "execution_count": 26,
   "metadata": {},
   "outputs": [],
   "source": [
    "#2-Call your function1\n",
    "random1=normal_function(10,1,1000)"
   ]
  },
  {
   "cell_type": "code",
   "execution_count": 27,
   "metadata": {},
   "outputs": [],
   "source": [
    "#3-Call your function2\n",
    "random2=normal_function(10,50,1000)"
   ]
  },
  {
   "cell_type": "code",
   "execution_count": 28,
   "metadata": {},
   "outputs": [
    {
     "data": {
      "image/png": "[encoded data removed]",
      "text/plain": [
       "<Figure size 432x288 with 1 Axes>"
      ]
     },
     "metadata": {
      "needs_background": "light"
     },
     "output_type": "display_data"
    }
   ],
   "source": [
    "#Plot the uniform distributions generated above \n",
    "sns.distplot(random1)\n",
    "sns.distplot(random2)\n",
    "plt.legend(['random1', 'random2']);"
   ]
  },
  {
   "cell_type": "markdown",
   "metadata": {},
   "source": [
    "How are the two distributions different?"
   ]
  },
  {
   "cell_type": "code",
   "execution_count": 29,
   "metadata": {
    "ExecuteTime": {
     "end_time": "2019-08-02T06:07:54.816439Z",
     "start_time": "2019-08-02T06:07:54.814409Z"
    }
   },
   "outputs": [],
   "source": [
    "# different distrubiton around the mean (x-axis)\n",
    "\n",
    "#knowing that: The mean determines where the center of the peak is. \n",
    "#and: The standard deviation is a measure of how wide the peak is, or how spread out the data are\n",
    "#we see that in our data the first distribution has a smaller standard deviation of 1 and the second dist hav a bigger standard deviation of 50."
   ]
  },
  {
   "cell_type": "markdown",
   "metadata": {},
   "source": [
    "## Normal Distribution of Real Data\n",
    "\n",
    "In this challenge we are going to take a look the real data. We will use vehicles.csv file for this exercise"
   ]
  },
  {
   "cell_type": "markdown",
   "metadata": {},
   "source": [
    "First import vehicles.csv.\n",
    "Then plot the histograms for the following variables:\n",
    "\n",
    "1. Fuel Barrels/Year"
   ]
  },
  {
   "cell_type": "code",
   "execution_count": 31,
   "metadata": {
    "ExecuteTime": {
     "end_time": "2019-08-02T06:07:54.820851Z",
     "start_time": "2019-08-02T06:07:54.818504Z"
    }
   },
   "outputs": [
    {
     "data": {
      "text/html": [
       "<div>\n",
       "<style scoped>\n",
       "    .dataframe tbody tr th:only-of-type {\n",
       "        vertical-align: middle;\n",
       "    }\n",
       "\n",
       "    .dataframe tbody tr th {\n",
       "        vertical-align: top;\n",
       "    }\n",
       "\n",
       "    .dataframe thead th {\n",
       "        text-align: right;\n",
       "    }\n",
       "</style>\n",
       "<table border=\"1\" class=\"dataframe\">\n",
       "  <thead>\n",
       "    <tr style=\"text-align: right;\">\n",
       "      <th></th>\n",
       "      <th>Make</th>\n",
       "      <th>Model</th>\n",
       "      <th>Year</th>\n",
       "      <th>Engine Displacement</th>\n",
       "      <th>Cylinders</th>\n",
       "      <th>Transmission</th>\n",
       "      <th>Drivetrain</th>\n",
       "      <th>Vehicle Class</th>\n",
       "      <th>Fuel Type</th>\n",
       "      <th>Fuel Barrels/Year</th>\n",
       "      <th>City MPG</th>\n",
       "      <th>Highway MPG</th>\n",
       "      <th>Combined MPG</th>\n",
       "      <th>CO2 Emission Grams/Mile</th>\n",
       "      <th>Fuel Cost/Year</th>\n",
       "    </tr>\n",
       "  </thead>\n",
       "  <tbody>\n",
       "    <tr>\n",
       "      <th>0</th>\n",
       "      <td>AM General</td>\n",
       "      <td>DJ Po Vehicle 2WD</td>\n",
       "      <td>1984</td>\n",
       "      <td>2.5</td>\n",
       "      <td>4.0</td>\n",
       "      <td>Automatic 3-spd</td>\n",
       "      <td>2-Wheel Drive</td>\n",
       "      <td>Special Purpose Vehicle 2WD</td>\n",
       "      <td>Regular</td>\n",
       "      <td>19.388824</td>\n",
       "      <td>18</td>\n",
       "      <td>17</td>\n",
       "      <td>17</td>\n",
       "      <td>522.764706</td>\n",
       "      <td>1950</td>\n",
       "    </tr>\n",
       "    <tr>\n",
       "      <th>1</th>\n",
       "      <td>AM General</td>\n",
       "      <td>FJ8c Post Office</td>\n",
       "      <td>1984</td>\n",
       "      <td>4.2</td>\n",
       "      <td>6.0</td>\n",
       "      <td>Automatic 3-spd</td>\n",
       "      <td>2-Wheel Drive</td>\n",
       "      <td>Special Purpose Vehicle 2WD</td>\n",
       "      <td>Regular</td>\n",
       "      <td>25.354615</td>\n",
       "      <td>13</td>\n",
       "      <td>13</td>\n",
       "      <td>13</td>\n",
       "      <td>683.615385</td>\n",
       "      <td>2550</td>\n",
       "    </tr>\n",
       "    <tr>\n",
       "      <th>2</th>\n",
       "      <td>AM General</td>\n",
       "      <td>Post Office DJ5 2WD</td>\n",
       "      <td>1985</td>\n",
       "      <td>2.5</td>\n",
       "      <td>4.0</td>\n",
       "      <td>Automatic 3-spd</td>\n",
       "      <td>Rear-Wheel Drive</td>\n",
       "      <td>Special Purpose Vehicle 2WD</td>\n",
       "      <td>Regular</td>\n",
       "      <td>20.600625</td>\n",
       "      <td>16</td>\n",
       "      <td>17</td>\n",
       "      <td>16</td>\n",
       "      <td>555.437500</td>\n",
       "      <td>2100</td>\n",
       "    </tr>\n",
       "    <tr>\n",
       "      <th>3</th>\n",
       "      <td>AM General</td>\n",
       "      <td>Post Office DJ8 2WD</td>\n",
       "      <td>1985</td>\n",
       "      <td>4.2</td>\n",
       "      <td>6.0</td>\n",
       "      <td>Automatic 3-spd</td>\n",
       "      <td>Rear-Wheel Drive</td>\n",
       "      <td>Special Purpose Vehicle 2WD</td>\n",
       "      <td>Regular</td>\n",
       "      <td>25.354615</td>\n",
       "      <td>13</td>\n",
       "      <td>13</td>\n",
       "      <td>13</td>\n",
       "      <td>683.615385</td>\n",
       "      <td>2550</td>\n",
       "    </tr>\n",
       "    <tr>\n",
       "      <th>4</th>\n",
       "      <td>ASC Incorporated</td>\n",
       "      <td>GNX</td>\n",
       "      <td>1987</td>\n",
       "      <td>3.8</td>\n",
       "      <td>6.0</td>\n",
       "      <td>Automatic 4-spd</td>\n",
       "      <td>Rear-Wheel Drive</td>\n",
       "      <td>Midsize Cars</td>\n",
       "      <td>Premium</td>\n",
       "      <td>20.600625</td>\n",
       "      <td>14</td>\n",
       "      <td>21</td>\n",
       "      <td>16</td>\n",
       "      <td>555.437500</td>\n",
       "      <td>2550</td>\n",
       "    </tr>\n",
       "  </tbody>\n",
       "</table>\n",
       "</div>"
      ],
      "text/plain": [
       "               Make                Model  Year  Engine Displacement  \\\n",
       "0        AM General    DJ Po Vehicle 2WD  1984                  2.5   \n",
       "1        AM General     FJ8c Post Office  1984                  4.2   \n",
       "2        AM General  Post Office DJ5 2WD  1985                  2.5   \n",
       "3        AM General  Post Office DJ8 2WD  1985                  4.2   \n",
       "4  ASC Incorporated                  GNX  1987                  3.8   \n",
       "\n",
       "   Cylinders     Transmission        Drivetrain                Vehicle Class  \\\n",
       "0        4.0  Automatic 3-spd     2-Wheel Drive  Special Purpose Vehicle 2WD   \n",
       "1        6.0  Automatic 3-spd     2-Wheel Drive  Special Purpose Vehicle 2WD   \n",
       "2        4.0  Automatic 3-spd  Rear-Wheel Drive  Special Purpose Vehicle 2WD   \n",
       "3        6.0  Automatic 3-spd  Rear-Wheel Drive  Special Purpose Vehicle 2WD   \n",
       "4        6.0  Automatic 4-spd  Rear-Wheel Drive                 Midsize Cars   \n",
       "\n",
       "  Fuel Type  Fuel Barrels/Year  City MPG  Highway MPG  Combined MPG  \\\n",
       "0   Regular          19.388824        18           17            17   \n",
       "1   Regular          25.354615        13           13            13   \n",
       "2   Regular          20.600625        16           17            16   \n",
       "3   Regular          25.354615        13           13            13   \n",
       "4   Premium          20.600625        14           21            16   \n",
       "\n",
       "   CO2 Emission Grams/Mile  Fuel Cost/Year  \n",
       "0               522.764706            1950  \n",
       "1               683.615385            2550  \n",
       "2               555.437500            2100  \n",
       "3               683.615385            2550  \n",
       "4               555.437500            2550  "
      ]
     },
     "execution_count": 31,
     "metadata": {},
     "output_type": "execute_result"
    }
   ],
   "source": [
    "# your code here\n",
    "data = pd.read_csv('/Users/annavilardell/Desktop/BootcampData/notebooks/data/vehicles.csv')\n",
    "data.head()"
   ]
  },
  {
   "cell_type": "code",
   "execution_count": 35,
   "metadata": {},
   "outputs": [
    {
     "data": {
      "image/png": "[encoded data removed]",
      "text/plain": [
       "<Figure size 432x288 with 1 Axes>"
      ]
     },
     "metadata": {
      "needs_background": "light"
     },
     "output_type": "display_data"
    }
   ],
   "source": [
    "data.hist(\"Fuel Barrels/Year\");"
   ]
  },
  {
   "cell_type": "markdown",
   "metadata": {},
   "source": [
    "2. CO2 Emission Grams/Mile "
   ]
  },
  {
   "cell_type": "code",
   "execution_count": 36,
   "metadata": {},
   "outputs": [
    {
     "data": {
      "image/png": "[encoded data removed]",
      "text/plain": [
       "<Figure size 432x288 with 1 Axes>"
      ]
     },
     "metadata": {
      "needs_background": "light"
     },
     "output_type": "display_data"
    }
   ],
   "source": [
    "data.hist(\"CO2 Emission Grams/Mile\");"
   ]
  },
  {
   "cell_type": "markdown",
   "metadata": {},
   "source": [
    "3. Combined MPG"
   ]
  },
  {
   "cell_type": "code",
   "execution_count": 37,
   "metadata": {},
   "outputs": [
    {
     "data": {
      "image/png": "[encoded data removed]",
      "text/plain": [
       "<Figure size 432x288 with 1 Axes>"
      ]
     },
     "metadata": {
      "needs_background": "light"
     },
     "output_type": "display_data"
    }
   ],
   "source": [
    "data.hist(\"Combined MPG\");"
   ]
  },
  {
   "cell_type": "markdown",
   "metadata": {},
   "source": [
    "Which one(s) of the variables are nearly normally distributed? How do you know?"
   ]
  },
  {
   "cell_type": "code",
   "execution_count": 6,
   "metadata": {
    "ExecuteTime": {
     "end_time": "2019-08-02T06:07:54.886563Z",
     "start_time": "2019-08-02T06:07:54.883451Z"
    }
   },
   "outputs": [],
   "source": [
    "# barrels & emission relatively normal, MPG left skew"
   ]
  },
  {
   "cell_type": "markdown",
   "metadata": {},
   "source": [
    "## Exponential Distribution"
   ]
  },
  {
   "cell_type": "markdown",
   "metadata": {},
   "source": [
    "1. Using `numpy.random.exponential`, create a function that returns a list of numbers exponentially distributed with the mean of 10. \n",
    "\n",
    "1. Use the function to generate two number sequences with the size of 1 and 100.\n",
    "\n",
    "1. Plot the distributions as histograms with the nubmer of bins as 100."
   ]
  },
  {
   "cell_type": "code",
   "execution_count": 45,
   "metadata": {
    "ExecuteTime": {
     "end_time": "2019-08-02T06:07:55.006719Z",
     "start_time": "2019-08-02T06:07:55.004129Z"
    }
   },
   "outputs": [
    {
     "data": {
      "image/png": "[encoded data removed]",
      "text/plain": [
       "<Figure size 432x288 with 2 Axes>"
      ]
     },
     "metadata": {
      "needs_background": "light"
     },
     "output_type": "display_data"
    }
   ],
   "source": [
    "# your code here\n",
    "\n",
    "#create a function that returns a list of numbers exponentially distributed with the mean of 10\n",
    "def exponential_function(mean,size):\n",
    "     return np.random.exponential(mean,size)\n",
    "\n",
    "#Use the function to generate two number sequences with the size of 1 and 100.\n",
    "result1= exponential_function(10,1)\n",
    "result2= exponential_function(10,100)\n",
    "\n",
    "#Plot the distributions as histograms with the nubmer of bins as 100\n",
    "fig, [ax1, ax2] = plt.subplots(1,2)\n",
    "ax1.hist(result1, bins=100);\n",
    "ax2.hist(result2, bins=100);"
   ]
  },
  {
   "cell_type": "markdown",
   "metadata": {},
   "source": [
    "How are the two distributions different?"
   ]
  },
  {
   "cell_type": "code",
   "execution_count": 8,
   "metadata": {
    "ExecuteTime": {
     "end_time": "2019-08-02T06:07:55.068339Z",
     "start_time": "2019-08-02T06:07:55.065924Z"
    }
   },
   "outputs": [],
   "source": [
    "# no variation can be see when size =1"
   ]
  },
  {
   "cell_type": "markdown",
   "metadata": {},
   "source": [
    "## Exponential Distribution of Real Data\n",
    "\n",
    "Suppose that the amount of time one spends in a bank is exponentially distributed with mean as 10 minutes (i.e. λ = 1/10). What is the probability that a customer will spend less than fifteen minutes in the bank? \n",
    "\n",
    "Write a code in python to solve this problem"
   ]
  },
  {
   "cell_type": "code",
   "execution_count": 48,
   "metadata": {
    "ExecuteTime": {
     "end_time": "2019-08-02T06:07:55.137100Z",
     "start_time": "2019-08-02T06:07:55.134100Z"
    }
   },
   "outputs": [
    {
     "data": {
      "text/plain": [
       "0.9999996619256516"
      ]
     },
     "execution_count": 48,
     "metadata": {},
     "output_type": "execute_result"
    }
   ],
   "source": [
    "# Hint: This is same as saying P(x<15)\n",
    "stats.expon(1/10).cdf(15)\n",
    "less15=stats.expon(scale = 10).cdf(15)\n"
   ]
  },
  {
   "cell_type": "markdown",
   "metadata": {},
   "source": [
    "What is the probability that the customer will spend more than 15 minutes"
   ]
  },
  {
   "cell_type": "code",
   "execution_count": 49,
   "metadata": {},
   "outputs": [
    {
     "data": {
      "text/plain": [
       "3.3807434839047367e-07"
      ]
     },
     "execution_count": 49,
     "metadata": {},
     "output_type": "execute_result"
    }
   ],
   "source": [
    "stats.expon(1/10).sf(15)"
   ]
  }
 ],
 "metadata": {
  "kernelspec": {
   "display_name": "Python 3",
   "language": "python",
   "name": "python3"
  },
  "language_info": {
   "codemirror_mode": {
    "name": "ipython",
    "version": 3
   },
   "file_extension": ".py",
   "mimetype": "text/x-python",
   "name": "python",
   "nbconvert_exporter": "python",
   "pygments_lexer": "ipython3",
   "version": "3.7.7"
  },
  "toc": {
   "base_numbering": 1,
   "nav_menu": {},
   "number_sections": true,
   "sideBar": true,
   "skip_h1_title": false,
   "title_cell": "Table of Contents",
   "title_sidebar": "Contents",
   "toc_cell": false,
   "toc_position": {},
   "toc_section_display": true,
   "toc_window_display": false
  },
  "varInspector": {
   "cols": {
    "lenName": 16,
    "lenType": 16,
    "lenVar": 40
   },
   "kernels_config": {
    "python": {
     "delete_cmd_postfix": "",
     "delete_cmd_prefix": "del ",
     "library": "var_list.py",
     "varRefreshCmd": "print(var_dic_list())"
    },
    "r": {
     "delete_cmd_postfix": ") ",
     "delete_cmd_prefix": "rm(",
     "library": "var_list.r",
     "varRefreshCmd": "cat(var_dic_list()) "
    }
   },
   "types_to_exclude": [
    "module",
    "function",
    "builtin_function_or_method",
    "instance",
    "_Feature"
   ],
   "window_display": false
  }
 },
 "nbformat": 4,
 "nbformat_minor": 2
}
